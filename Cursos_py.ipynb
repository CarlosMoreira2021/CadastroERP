{
  "nbformat": 4,
  "nbformat_minor": 0,
  "metadata": {
    "colab": {
      "provenance": [],
      "authorship_tag": "ABX9TyOB5wOkKgSGZVfKHgNhVy7J",
      "include_colab_link": true
    },
    "kernelspec": {
      "name": "python3",
      "display_name": "Python 3"
    },
    "language_info": {
      "name": "python"
    }
  },
  "cells": [
    {
      "cell_type": "markdown",
      "metadata": {
        "id": "view-in-github",
        "colab_type": "text"
      },
      "source": [
        "<a href=\"https://colab.research.google.com/github/CarlosMoreira2021/CadastroERP/blob/main/Cursos_py.ipynb\" target=\"_parent\"><img src=\"https://colab.research.google.com/assets/colab-badge.svg\" alt=\"Open In Colab\"/></a>"
      ]
    },
    {
      "cell_type": "code",
      "source": [
        "#aula 21 - operadores logicos (AND , or, not)\n",
        "\n",
        "\n",
        "\n",
        "entrada = input('[E]ntrar [S]air: ').upper()\n",
        "senha_digitada = input('Senha: ')\n",
        "senha_permitida = '123456'\n",
        "\n",
        "\n",
        "if entrada == 'E' and senha_digitada == senha_permitida:\n",
        "  print('Entrar')\n",
        "\n",
        "elif entrada == 'E' and senha_digitada != senha_permitida:\n",
        "  print('Senha incorreta')\n",
        "else:\n",
        "  print('Sair')\n",
        "\n",
        "print('FIM DO PROGRAMA')\n",
        "\n",
        "\n"
      ],
      "metadata": {
        "id": "Au9hEcPfLG3g"
      },
      "execution_count": null,
      "outputs": []
    },
    {
      "cell_type": "code",
      "source": [
        "#aula 22 - operadores logicos (and , OR , not)\n",
        "\n",
        "\n",
        "\n",
        "entrada = input('[E]ntrar [S]air:')\n",
        "senha_digitada = input('Senha: ')\n",
        "senha_permitida = '123456'\n",
        "\n",
        "\n",
        "if (entrada == 'E' or entrada == 'e') and senha_digitada == senha_permitida:\n",
        "  print('Entrar')\n",
        "elif entrada == 'E' and senha_digitada != senha_permitida:\n",
        "  print('Senha incorreta')\n",
        "else:\n",
        "  print('Sair')\n",
        "\n",
        "print('FIM DO PROGRAMA')\n"
      ],
      "metadata": {
        "id": "T_4mSUIGPfCp"
      },
      "execution_count": null,
      "outputs": []
    },
    {
      "cell_type": "code",
      "source": [
        "#aula 23 - operadores logicos (and , or , NOT)\n",
        "\n",
        "\n",
        "\n",
        "print(not True)\n",
        "print(not False)\n",
        "print(not 0)"
      ],
      "metadata": {
        "id": "eaBiAY7CU4Fk"
      },
      "execution_count": null,
      "outputs": []
    }
  ]
}