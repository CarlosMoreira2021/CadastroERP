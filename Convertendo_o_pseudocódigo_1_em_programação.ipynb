{
  "nbformat": 4,
  "nbformat_minor": 0,
  "metadata": {
    "colab": {
      "provenance": [],
      "authorship_tag": "ABX9TyM5agveEz2A2NFXJ8qvBbdw",
      "include_colab_link": true
    },
    "kernelspec": {
      "name": "python3",
      "display_name": "Python 3"
    },
    "language_info": {
      "name": "python"
    }
  },
  "cells": [
    {
      "cell_type": "markdown",
      "metadata": {
        "id": "view-in-github",
        "colab_type": "text"
      },
      "source": [
        "<a href=\"https://colab.research.google.com/github/CarlosMoreira2021/CadastroERP/blob/main/Convertendo_o_pseudoc%C3%B3digo_1_em_programa%C3%A7%C3%A3o.ipynb\" target=\"_parent\"><img src=\"https://colab.research.google.com/assets/colab-badge.svg\" alt=\"Open In Colab\"/></a>"
      ]
    },
    {
      "cell_type": "markdown",
      "source": [
        "Convertendo o pseudocódigo 1 em programação"
      ],
      "metadata": {
        "id": "AsM47FlSS0g0"
      }
    },
    {
      "cell_type": "code",
      "execution_count": null,
      "metadata": {
        "colab": {
          "base_uri": "https://localhost:8080/"
        },
        "id": "NhPyHF4_Srqs",
        "outputId": "d67d61da-e757-46b5-e349-e268984b7072"
      },
      "outputs": [
        {
          "output_type": "stream",
          "name": "stdout",
          "text": [
            "Bem-vindo ao calculador de Area de paralelograma\n"
          ]
        }
      ],
      "source": [
        "print(\"Bem-vindo ao calculador de Area de paralelograma\")"
      ]
    },
    {
      "cell_type": "code",
      "source": [
        "base = float(input(\"Insira o comprimento da base: \"))\n",
        "print(base)"
      ],
      "metadata": {
        "colab": {
          "base_uri": "https://localhost:8080/"
        },
        "id": "WS6NnA3dTAB6",
        "outputId": "b5f10e23-be6b-458f-d195-10507cf768f7"
      },
      "execution_count": null,
      "outputs": [
        {
          "output_type": "stream",
          "name": "stdout",
          "text": [
            "Insira o comprimento da base:10\n",
            "10.0\n"
          ]
        }
      ]
    },
    {
      "cell_type": "code",
      "source": [
        "altura = float(input(\"Insira a altura: \"))\n",
        "print(altura)"
      ],
      "metadata": {
        "colab": {
          "base_uri": "https://localhost:8080/"
        },
        "id": "HWiWg5iMTNKO",
        "outputId": "fc8b74d5-7583-482c-96be-03666fc1bfdf"
      },
      "execution_count": null,
      "outputs": [
        {
          "output_type": "stream",
          "name": "stdout",
          "text": [
            "Insira a altura: 20\n",
            "20.0\n"
          ]
        }
      ]
    },
    {
      "cell_type": "code",
      "source": [
        "area = base * altura"
      ],
      "metadata": {
        "id": "u5_vV33wVUJ6"
      },
      "execution_count": null,
      "outputs": []
    },
    {
      "cell_type": "code",
      "source": [
        "print(\"A area do paralelogramo é: \", area)"
      ],
      "metadata": {
        "colab": {
          "base_uri": "https://localhost:8080/"
        },
        "id": "3osICHHGVWtt",
        "outputId": "c59b7a4d-4374-41b2-dcb1-357a439f66b1"
      },
      "execution_count": null,
      "outputs": [
        {
          "output_type": "stream",
          "name": "stdout",
          "text": [
            "A area do paralelogramo é:  200.0\n"
          ]
        }
      ]
    }
  ]
}